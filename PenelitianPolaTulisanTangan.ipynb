{
  "nbformat": 4,
  "nbformat_minor": 0,
  "metadata": {
    "colab": {
      "provenance": [],
      "authorship_tag": "ABX9TyMiwGWwQ35ed7k8bjadZCQQ",
      "include_colab_link": true
    },
    "kernelspec": {
      "name": "python3",
      "display_name": "Python 3"
    },
    "language_info": {
      "name": "python"
    }
  },
  "cells": [
    {
      "cell_type": "markdown",
      "metadata": {
        "id": "view-in-github",
        "colab_type": "text"
      },
      "source": [
        "<a href=\"https://colab.research.google.com/github/lukasfebri015/Semester4/blob/main/PenelitianPolaTulisanTangan.ipynb\" target=\"_parent\"><img src=\"https://colab.research.google.com/assets/colab-badge.svg\" alt=\"Open In Colab\"/></a>"
      ]
    },
    {
      "cell_type": "code",
      "source": [
        "import zipfile\n",
        "import matplotlib.pyplot as plt\n",
        "import matplotlib.image as mpimg\n",
        "\n",
        "# Membuka file zip\n",
        "with zipfile.ZipFile('archive.zip', 'r') as zip_ref:\n",
        "    # Mendapatkan daftar file dalam zip\n",
        "    file_list = zip_ref.namelist()\n",
        "\n",
        "    # Menampilkan 5 gambar pertama secara berjejer ke kanan\n",
        "    fig, axes = plt.subplots(1, 5, figsize=(15, 3))\n",
        "\n",
        "    for i in range(5):\n",
        "        # Membuka file gambar dari zip\n",
        "        with zip_ref.open(file_list[i]) as image_file:\n",
        "            # Membaca data gambar\n",
        "            img = mpimg.imread(image_file)\n",
        "\n",
        "            # Menampilkan gambar\n",
        "            axes[i].imshow(img)\n",
        "            axes[i].axis('off')\n",
        "\n",
        "    plt.show()"
      ],
      "metadata": {
        "colab": {
          "base_uri": "https://localhost:8080/",
          "height": 237
        },
        "id": "uysoftfKYuu8",
        "outputId": "eb0d0baa-0cd7-49c5-bf65-1bb0d439052e"
      },
      "execution_count": null,
      "outputs": [
        {
          "output_type": "display_data",
          "data": {
            "text/plain": [
              "<Figure size 1500x300 with 5 Axes>"
            ],
            "image/png": "[encoded data removed]"
          },
          "metadata": {}
        }
      ]
    },
    {
      "cell_type": "code",
      "source": [
        "import zipfile\n",
        "import matplotlib.pyplot as plt\n",
        "import matplotlib.image as mpimg\n",
        "import os\n",
        "\n",
        "# Membuka file zip\n",
        "with zipfile.ZipFile('archive.zip', 'r') as zip_ref:\n",
        "    # Mendapatkan daftar direktori dalam zip\n",
        "    dir_list = sorted(set([os.path.dirname(name) for name in zip_ref.namelist()]))\n",
        "\n",
        "    # Menampilkan 10 gambar secara bergantian dari setiap direktori\n",
        "    fig, axes = plt.subplots(2, 5, figsize=(15, 6))\n",
        "    axes = axes.ravel()\n",
        "\n",
        "    for i, directory in enumerate(dir_list):\n",
        "        # Mendapatkan daftar file dalam direktori\n",
        "        file_list = [name for name in zip_ref.namelist() if os.path.dirname(name) == directory]\n",
        "\n",
        "        # Menampilkan gambar dari direktori\n",
        "        for j in range(2):\n",
        "            if i * 2 + j < 10:\n",
        "                # Membuka file gambar dari zip\n",
        "                with zip_ref.open(file_list[j]) as image_file:\n",
        "                    # Membaca data gambar\n",
        "                    img = mpimg.imread(image_file)\n",
        "\n",
        "                    # Menampilkan gambar\n",
        "                    axes[i * 2 + j].imshow(img)\n",
        "                    axes[i * 2 + j].set_title(file_list[j])\n",
        "                    axes[i * 2 + j].axis('off')\n",
        "\n",
        "    plt.tight_layout()\n",
        "    plt.show()"
      ],
      "metadata": {
        "colab": {
          "base_uri": "https://localhost:8080/",
          "height": 535
        },
        "id": "O5lwMf6EbjZq",
        "outputId": "99c6ce0a-a963-48b1-dff3-3f1b51eb8e25"
      },
      "execution_count": 5,
      "outputs": [
        {
          "output_type": "display_data",
          "data": {
            "text/plain": [
              "<Figure size 1500x600 with 10 Axes>"
            ],
            "image/png": "[encoded data removed]"
          },
          "metadata": {}
        }
      ]
    },
    {
      "cell_type": "code",
      "source": [
        "import os\n",
        "import numpy as np\n",
        "import matplotlib.pyplot as plt\n",
        "from sklearn.metrics import confusion_matrix\n",
        "import cv2\n",
        "from tensorflow.keras.models import Sequential\n",
        "from tensorflow.keras.layers import Conv2D, MaxPooling2D, Flatten, Dense\n",
        "import zipfile\n",
        "\n",
        "# Mengekstrak file archive.zip\n",
        "with zipfile.ZipFile('archive.zip', 'r') as zip_ref:\n",
        "    zip_ref.extractall('extracted_data')\n",
        "\n",
        "# Membuat daftar file gambar dan label\n",
        "data_dir = \"extracted_data\"\n",
        "files = []\n",
        "labels = []\n",
        "for root, dirs, filenames in os.walk(data_dir):\n",
        "    for filename in filenames:\n",
        "        file_path = os.path.join(root, filename)\n",
        "        label = os.path.basename(os.path.normpath(root))\n",
        "        files.append(file_path)\n",
        "        labels.append(label)\n",
        "\n",
        "images = [cv2.imread(file, cv2.IMREAD_GRAYSCALE) for file in files]\n",
        "\n",
        "# Preproses gambar (misalnya, resize dan normalisasi)\n",
        "images = [cv2.resize(img, (32, 32)) for img in images]\n",
        "images = np.array(images) / 255.0\n",
        "images = np.expand_dims(images, -1)  # Menambahkan dimensi channel\n",
        "\n",
        "# Membagi data menjadi data latih dan data uji\n",
        "from sklearn.model_selection import train_test_split\n",
        "X_train, X_test, y_train, y_test = train_test_split(images, labels, test_size=0.2, random_state=42)\n",
        "\n",
        "# One-hot encoding label\n",
        "from tensorflow.keras.utils import to_categorical\n",
        "num_classes = len(np.unique(labels))\n",
        "y_train = to_categorical(np.array([np.where(np.unique(labels) == label)[0][0] for label in y_train]), num_classes)\n",
        "y_test = to_categorical(np.array([np.where(np.unique(labels) == label)[0][0] for label in y_test]), num_classes)\n",
        "\n",
        "# Membangun model CNN\n",
        "model = Sequential([\n",
        "    Conv2D(32, (3, 3), activation='relu', input_shape=(32, 32, 1)),\n",
        "    MaxPooling2D((2, 2)),\n",
        "    Conv2D(64, (3, 3), activation='relu'),\n",
        "    MaxPooling2D((2, 2)),\n",
        "    Flatten(),\n",
        "    Dense(128, activation='relu'),\n",
        "    Dense(num_classes, activation='softmax')\n",
        "])\n",
        "\n",
        "# Mengompilasi model\n",
        "model.compile(optimizer='adam', loss='categorical_crossentropy', metrics=['accuracy'])\n",
        "\n",
        "# Melatih model\n",
        "model.fit(X_train, y_train, epochs=10, batch_size=32, validation_data=(X_test, y_test))\n",
        "\n",
        "# Mengevaluasi model pada data uji dan menghasilkan confusion matrix\n",
        "y_pred = model.predict(X_test)\n",
        "y_pred = np.argmax(y_pred, axis=1)\n",
        "y_true = np.argmax(y_test, axis=1)\n",
        "conf_matrix = confusion_matrix(y_true, y_pred)\n",
        "\n",
        "# Menampilkan confusion matrix\n",
        "plt.figure(figsize=(10, 8))\n",
        "plt.imshow(conf_matrix, cmap='Blues')\n",
        "plt.colorbar()\n",
        "plt.xticks(np.arange(num_classes), np.unique(labels), rotation=90)\n",
        "plt.yticks(np.arange(num_classes), np.unique(labels))\n",
        "plt.xlabel('Predicted Label')\n",
        "plt.ylabel('True Label')\n",
        "plt.title('Confusion Matrix')\n",
        "plt.show()"
      ],
      "metadata": {
        "colab": {
          "base_uri": "https://localhost:8080/",
          "height": 1000
        },
        "id": "5NyffbuXfUH0",
        "outputId": "55b57a35-d09f-4ab3-ff61-1879a4515a4a"
      },
      "execution_count": 7,
      "outputs": [
        {
          "output_type": "stream",
          "name": "stdout",
          "text": [
            "Epoch 1/10\n",
            "29/29 [==============================] - 3s 55ms/step - loss: 1.6245 - accuracy: 0.5324 - val_loss: 0.4373 - val_accuracy: 0.9052\n",
            "Epoch 2/10\n",
            "29/29 [==============================] - 2s 65ms/step - loss: 0.2518 - accuracy: 0.9298 - val_loss: 0.1941 - val_accuracy: 0.9224\n",
            "Epoch 3/10\n",
            "29/29 [==============================] - 2s 65ms/step - loss: 0.1118 - accuracy: 0.9698 - val_loss: 0.1328 - val_accuracy: 0.9569\n",
            "Epoch 4/10\n",
            "29/29 [==============================] - 1s 40ms/step - loss: 0.0598 - accuracy: 0.9827 - val_loss: 0.1271 - val_accuracy: 0.9612\n",
            "Epoch 5/10\n",
            "29/29 [==============================] - 1s 43ms/step - loss: 0.0373 - accuracy: 0.9914 - val_loss: 0.1111 - val_accuracy: 0.9698\n",
            "Epoch 6/10\n",
            "29/29 [==============================] - 2s 66ms/step - loss: 0.0203 - accuracy: 0.9978 - val_loss: 0.0975 - val_accuracy: 0.9698\n",
            "Epoch 7/10\n",
            "29/29 [==============================] - 2s 65ms/step - loss: 0.0110 - accuracy: 1.0000 - val_loss: 0.0994 - val_accuracy: 0.9569\n",
            "Epoch 8/10\n",
            "29/29 [==============================] - 1s 39ms/step - loss: 0.0070 - accuracy: 0.9989 - val_loss: 0.1218 - val_accuracy: 0.9526\n",
            "Epoch 9/10\n",
            "29/29 [==============================] - 1s 37ms/step - loss: 0.0085 - accuracy: 0.9989 - val_loss: 0.1002 - val_accuracy: 0.9612\n",
            "Epoch 10/10\n",
            "29/29 [==============================] - 1s 40ms/step - loss: 0.0053 - accuracy: 1.0000 - val_loss: 0.1280 - val_accuracy: 0.9612\n",
            "8/8 [==============================] - 0s 11ms/step\n"
          ]
        },
        {
          "output_type": "display_data",
          "data": {
            "text/plain": [
              "<Figure size 1000x800 with 2 Axes>"
            ],
            "image/png": "[encoded data removed]"
          },
          "metadata": {}
        }
      ]
    },
    {
      "cell_type": "code",
      "source": [
        "import os\n",
        "import zipfile\n",
        "import cv2\n",
        "import numpy as np\n",
        "from sklearn.model_selection import train_test_split\n",
        "from tensorflow.keras.models import Sequential\n",
        "from tensorflow.keras.layers import Conv2D, MaxPooling2D, Flatten, Dense\n",
        "from tensorflow.keras.optimizers import Adam\n",
        "from tensorflow.keras.preprocessing.image import ImageDataGenerator\n",
        "\n",
        "# Mengekstrak file zip ke direktori sementara\n",
        "with zipfile.ZipFile('archive.zip', 'r') as zip_ref:\n",
        "    zip_ref.extractall('temp_dir')\n",
        "\n",
        "# Menyiapkan data gambar\n",
        "data_dir = 'temp_dir'\n",
        "images = []\n",
        "labels = []\n",
        "\n",
        "for root, dirs, files in os.walk(data_dir):\n",
        "    for file in files:\n",
        "        image_path = os.path.join(root, file)\n",
        "        image = cv2.imread(image_path)\n",
        "        images.append(image)\n",
        "        label = os.path.basename(os.path.dirname(image_path))\n",
        "        labels.append(label)\n",
        "\n",
        "images = np.array(images)\n",
        "labels = np.array(labels)\n",
        "\n",
        "# Preproses data gambar\n",
        "image_size = 32\n",
        "images = [cv2.resize(image, (image_size, image_size)) for image in images]\n",
        "images = np.array(images) / 255.0  # Normalisasi piksel\n",
        "\n",
        "# One-hot encoding label\n",
        "from sklearn.preprocessing import LabelEncoder\n",
        "label_encoder = LabelEncoder()\n",
        "labels = label_encoder.fit_transform(labels)\n",
        "num_classes = len(label_encoder.classes_)\n",
        "labels = np.eye(num_classes)[labels]  # One-hot encoding\n",
        "\n",
        "# Membagi data menjadi data latih dan data uji\n",
        "X_train, X_test, y_train, y_test = train_test_split(images, labels, test_size=0.2, random_state=42)\n",
        "\n",
        "# Membuat model klasifikasi\n",
        "model = Sequential([\n",
        "    Conv2D(32, (3, 3), activation='relu', input_shape=(image_size, image_size, 3)),\n",
        "    MaxPooling2D((2, 2)),\n",
        "    Conv2D(64, (3, 3), activation='relu'),\n",
        "    MaxPooling2D((2, 2)),\n",
        "    Flatten(),\n",
        "    Dense(128, activation='relu'),\n",
        "    Dense(num_classes, activation='softmax')\n",
        "])\n",
        "\n",
        "# Mengompilasi model\n",
        "optimizer = Adam(lr=0.001)\n",
        "model.compile(optimizer=optimizer, loss='categorical_crossentropy', metrics=['accuracy'])\n",
        "\n",
        "# Melatih model\n",
        "epochs = 10\n",
        "batch_size = 32\n",
        "datagen = ImageDataGenerator(rotation_range=10, width_shift_range=0.1, height_shift_range=0.1, shear_range=0.1, zoom_range=0.1)\n",
        "model.fit(datagen.flow(X_train, y_train, batch_size=batch_size), epochs=epochs, validation_data=(X_test, y_test))\n",
        "\n",
        "# Evaluasi model\n",
        "loss, accuracy = model.evaluate(X_test, y_test)\n",
        "print(f'Test Loss: {loss:.4f}')\n",
        "print(f'Test Accuracy: {accuracy:.4f}')"
      ],
      "metadata": {
        "colab": {
          "base_uri": "https://localhost:8080/"
        },
        "id": "azbj3bpwjTXP",
        "outputId": "94187e3e-1059-4339-d05c-aab8b166f546"
      },
      "execution_count": 16,
      "outputs": [
        {
          "output_type": "stream",
          "name": "stderr",
          "text": [
            "WARNING:absl:`lr` is deprecated in Keras optimizer, please use `learning_rate` or use the legacy optimizer, e.g.,tf.keras.optimizers.legacy.Adam.\n"
          ]
        },
        {
          "output_type": "stream",
          "name": "stdout",
          "text": [
            "Epoch 1/10\n",
            "29/29 [==============================] - 4s 94ms/step - loss: 1.6859 - accuracy: 0.4870 - val_loss: 0.4231 - val_accuracy: 0.8707\n",
            "Epoch 2/10\n",
            "29/29 [==============================] - 3s 110ms/step - loss: 0.6634 - accuracy: 0.7819 - val_loss: 0.1752 - val_accuracy: 0.9440\n",
            "Epoch 3/10\n",
            "29/29 [==============================] - 2s 58ms/step - loss: 0.3843 - accuracy: 0.8704 - val_loss: 0.1189 - val_accuracy: 0.9612\n",
            "Epoch 4/10\n",
            "29/29 [==============================] - 2s 58ms/step - loss: 0.3054 - accuracy: 0.9006 - val_loss: 0.0958 - val_accuracy: 0.9698\n",
            "Epoch 5/10\n",
            "29/29 [==============================] - 3s 95ms/step - loss: 0.2550 - accuracy: 0.9179 - val_loss: 0.0645 - val_accuracy: 0.9784\n",
            "Epoch 6/10\n",
            "29/29 [==============================] - 2s 67ms/step - loss: 0.1853 - accuracy: 0.9341 - val_loss: 0.1046 - val_accuracy: 0.9483\n",
            "Epoch 7/10\n",
            "29/29 [==============================] - 2s 56ms/step - loss: 0.1791 - accuracy: 0.9428 - val_loss: 0.0333 - val_accuracy: 0.9914\n",
            "Epoch 8/10\n",
            "29/29 [==============================] - 2s 55ms/step - loss: 0.1630 - accuracy: 0.9482 - val_loss: 0.0479 - val_accuracy: 0.9871\n",
            "Epoch 9/10\n",
            "29/29 [==============================] - 2s 60ms/step - loss: 0.1221 - accuracy: 0.9622 - val_loss: 0.0500 - val_accuracy: 0.9871\n",
            "Epoch 10/10\n",
            "29/29 [==============================] - 2s 80ms/step - loss: 0.1035 - accuracy: 0.9719 - val_loss: 0.0570 - val_accuracy: 0.9741\n",
            "8/8 [==============================] - 0s 18ms/step - loss: 0.0570 - accuracy: 0.9741\n",
            "Test Loss: 0.0570\n",
            "Test Accuracy: 0.9741\n"
          ]
        }
      ]
    }
  ]
}